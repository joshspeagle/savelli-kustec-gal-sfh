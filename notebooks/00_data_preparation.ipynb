{
 "cells": [
  {
   "cell_type": "markdown",
   "id": "1",
   "metadata": {},
   "source": [
    "# 00 - Data Preparation\n",
    "\n",
    "This notebook loads and preprocesses all data files used in the SFH analysis."
   ]
  },
  {
   "cell_type": "code",
   "execution_count": null,
   "id": "2",
   "metadata": {},
   "outputs": [],
   "source": [
    "import sys\n",
    "import numpy as np\n",
    "import os\n",
    "\n",
    "# Add src to path\n",
    "sys.path.append('../src')\n",
    "\n",
    "from utils.data_processing import (\n",
    "    load_iyer_data, \n",
    "    load_autoencoder_data,\n",
    "    apply_mass_cuts,\n",
    "    remove_zero_sfhs,\n",
    "    prepare_umap_data\n",
    ")\n",
    "from utils.analysis import sim_name"
   ]
  },
  {
   "cell_type": "markdown",
   "id": "3",
   "metadata": {},
   "source": [
    "## Load Raw Data"
   ]
  },
  {
   "cell_type": "markdown",
   "id": "3ef090bd",
   "metadata": {},
   "source": [
    "## Data Sources:\n",
    "1. **Iyer et al. 2020 SFH Data** - Star formation histories from multiple simulations\n",
    "2. **Autoencoder Results** - Predictions from multimodal autoencoder analysis"
   ]
  },
  {
   "cell_type": "code",
   "execution_count": 2,
   "id": "4",
   "metadata": {},
   "outputs": [
    {
     "name": "stdout",
     "output_type": "stream",
     "text": [
      "Loading Iyer et al. 2020 simulation data...\n",
      "Loaded EAGLE data: 16710 galaxies\n",
      "Loaded Illustris data: 19354 galaxies\n",
      "Loaded IllustrisTNG data: 12220 galaxies\n",
      "Loaded Mufasa data: 4574 galaxies\n",
      "Loaded Simba data: 4938 galaxies\n",
      "Loaded SC-SAM data: 18722 galaxies\n",
      "Loaded UniverseMachine data: 75696 galaxies\n",
      "\n",
      "Simulation summary:\n",
      "          EAGLE:   16,710 galaxies\n",
      "      Illustris:   19,354 galaxies\n",
      "   IllustrisTNG:   12,220 galaxies\n",
      "         Mufasa:    4,574 galaxies\n",
      "          Simba:    4,938 galaxies\n",
      "         SC-SAM:   18,722 galaxies\n",
      "UniverseMachine:   75,696 galaxies\n"
     ]
    }
   ],
   "source": [
    "# Load Iyer et al. 2020 simulation data\n",
    "print(\"Loading Iyer et al. 2020 simulation data...\")\n",
    "sim_data_raw = load_iyer_data()\n",
    "\n",
    "print(\"\\nSimulation summary:\")\n",
    "for sim in sim_name:\n",
    "    if sim_data_raw[sim] is not None:\n",
    "        ngal = sim_data_raw[sim]['ngal']\n",
    "        print(f\"{sim:>15s}: {ngal:>8,d} galaxies\")\n",
    "    else:\n",
    "        print(f\"{sim:>15s}: No data\")"
   ]
  },
  {
   "cell_type": "code",
   "execution_count": 3,
   "id": "34136bfc",
   "metadata": {},
   "outputs": [
    {
     "name": "stdout",
     "output_type": "stream",
     "text": [
      "Loading zoom simulation data...\n",
      "Loaded FIRE-2 data: 22 galaxies\n",
      "Loaded g14 data: 8 galaxies\n",
      "Loaded Marvel_JL data: 5 galaxies\n"
     ]
    }
   ],
   "source": [
    "# Load and process zoom simulation data  \n",
    "print(\"Loading zoom simulation data...\")\n",
    "zoom_data_raw = load_iyer_data(sim_name_list=['FIRE-2', 'g14', 'Marvel_JL'])"
   ]
  },
  {
   "cell_type": "code",
   "execution_count": 4,
   "id": "5",
   "metadata": {},
   "outputs": [
    {
     "name": "stdout",
     "output_type": "stream",
     "text": [
      "Loading autoencoder results...\n",
      "Loaded predictions_sfh.npy: shape (63083, 139)\n",
      "Loaded predictions_sfh_w.npy: shape (63083, 139)\n",
      "Loaded predictions_sfr.npy: shape (63083, 2)\n",
      "Loaded predictions_sfr_w.npy: shape (63083, 2)\n",
      "Loaded predictions_sim.npy: shape (63083, 7)\n",
      "Loaded predictions_sim_w.npy: shape (63083, 7)\n",
      "\n",
      "Autoencoder data summary:\n",
      "     predictions_sfh: (63083, 139)\n",
      "   predictions_sfh_w: (63083, 139)\n",
      "     predictions_sfr: (63083, 2)\n",
      "   predictions_sfr_w: (63083, 2)\n",
      "     predictions_sim: (63083, 7)\n",
      "   predictions_sim_w: (63083, 7)\n"
     ]
    }
   ],
   "source": [
    "# Load autoencoder results\n",
    "print(\"Loading autoencoder results...\")\n",
    "ae_data = load_autoencoder_data()\n",
    "\n",
    "print(\"\\nAutoencoder data summary:\")\n",
    "for key, data in ae_data.items():\n",
    "    print(f\"{key:>20s}: {data.shape}\")"
   ]
  },
  {
   "cell_type": "markdown",
   "id": "6",
   "metadata": {},
   "source": [
    "## Apply Data Processing Steps"
   ]
  },
  {
   "cell_type": "markdown",
   "id": "d8bf556d",
   "metadata": {},
   "source": [
    "1. Apply mass cuts\n",
    "2. Remove zero SFHs\n",
    "3. Normalize/interpolate SFHs (prepare data for UMAP analysis)"
   ]
  },
  {
   "cell_type": "code",
   "execution_count": 5,
   "id": "7",
   "metadata": {},
   "outputs": [
    {
     "name": "stdout",
     "output_type": "stream",
     "text": [
      "Applying mass cuts...\n",
      "EAGLE: 7482/16710 galaxies after M* > 1e+09 cut\n",
      "Illustris: 19354/19354 galaxies after M* > 1e+09 cut\n",
      "IllustrisTNG: 12220/12220 galaxies after M* > 1e+09 cut\n",
      "Mufasa: 1900/4574 galaxies after M* > 1e+10 cut\n",
      "Simba: 1982/4938 galaxies after M* > 1e+10 cut\n",
      "SC-SAM: 12821/18722 galaxies after M* > 1e+09 cut\n",
      "UniverseMachine: 7361/75696 galaxies after M* > 1e+09 cut\n"
     ]
    }
   ],
   "source": [
    "# Step 1: Apply mass cuts\n",
    "# Default: 10^10 for Mufasa, Simba; 10^9 for everything else\n",
    "print(\"Applying mass cuts...\")\n",
    "sim_data_cut = apply_mass_cuts(sim_data_raw)"
   ]
  },
  {
   "cell_type": "code",
   "execution_count": 6,
   "id": "8",
   "metadata": {},
   "outputs": [
    {
     "name": "stdout",
     "output_type": "stream",
     "text": [
      "\n",
      "Removing zero star formation histories...\n",
      "EAGLE: 7445/7482 galaxies after removing zero SFHs\n",
      "Illustris: 19354/19354 galaxies after removing zero SFHs\n",
      "IllustrisTNG: 12220/12220 galaxies after removing zero SFHs\n",
      "Mufasa: 1900/1900 galaxies after removing zero SFHs\n",
      "Simba: 1982/1982 galaxies after removing zero SFHs\n",
      "SC-SAM: 12821/12821 galaxies after removing zero SFHs\n",
      "UniverseMachine: 7361/7361 galaxies after removing zero SFHs\n",
      "FIRE-2: 22/22 galaxies after removing zero SFHs\n",
      "g14: 8/8 galaxies after removing zero SFHs\n",
      "Marvel_JL: 5/5 galaxies after removing zero SFHs\n"
     ]
    }
   ],
   "source": [
    "# Step 2: Remove zero SFHs\n",
    "print(\"\\nRemoving zero star formation histories...\")\n",
    "sim_data_clean = remove_zero_sfhs(sim_data_cut)\n",
    "\n",
    "# Process zoom data (no mass cuts for zooms)\n",
    "zoom_data_clean = remove_zero_sfhs(zoom_data_raw)"
   ]
  },
  {
   "cell_type": "code",
   "execution_count": 7,
   "id": "9",
   "metadata": {},
   "outputs": [
    {
     "name": "stdout",
     "output_type": "stream",
     "text": [
      "\n",
      "Preparing data for UMAP analysis...\n",
      "Combined data: 63083 total galaxies with 136 time bins\n"
     ]
    }
   ],
   "source": [
    "# Step 3: Prepare normalized data for UMAP analysis (includes interpolation)\n",
    "print(\"\\nPreparing data for UMAP analysis...\")\n",
    "combined_sfh, combined_labels = prepare_umap_data(sim_data_clean, \n",
    "                                                  normalize=True, \n",
    "                                                  remove_zeros=False)  # Already removed"
   ]
  },
  {
   "cell_type": "code",
   "execution_count": 8,
   "id": "11",
   "metadata": {},
   "outputs": [
    {
     "name": "stdout",
     "output_type": "stream",
     "text": [
      "Combined data: 35 total galaxies with 136 time bins\n"
     ]
    }
   ],
   "source": [
    "# Prepare zoom SFH data for UMAP transform using same function\n",
    "zoom_sfh, zoom_labels = prepare_umap_data(zoom_data_clean, \n",
    "                                          normalize=True, \n",
    "                                          remove_zeros=False)  # Already removed\n",
    "\n",
    "if len(zoom_sfh) > 0:\n",
    "    pass\n",
    "else:\n",
    "    print(\"No zoom simulation data loaded\")\n",
    "    zoom_sfh = None"
   ]
  },
  {
   "cell_type": "markdown",
   "id": "001477a5",
   "metadata": {},
   "source": [
    "## UMAP Analysis\n",
    "\n",
    "Generate UMAP embedding for reproducible figure generation."
   ]
  },
  {
   "cell_type": "code",
   "execution_count": 9,
   "id": "ce6cc58f",
   "metadata": {},
   "outputs": [
    {
     "data": {
      "text/plain": [
       "{'FIRE-2': {'sfh_raw': array([[0.00000000e+00, 0.00000000e+00, 5.02304718e-02, ...,\n",
       "          1.24570131e+01, 1.38750256e+01, 1.25251132e+01],\n",
       "         [0.00000000e+00, 0.00000000e+00, 2.63193534e-02, ...,\n",
       "          1.23768194e+01, 1.35059587e+01, 1.18102306e+01],\n",
       "         [0.00000000e+00, 0.00000000e+00, 7.30348821e-04, ...,\n",
       "          3.44641474e-01, 2.51629826e-01, 8.84574390e-03],\n",
       "         ...,\n",
       "         [0.00000000e+00, 0.00000000e+00, 0.00000000e+00, ...,\n",
       "          1.86151800e-04, 1.71702150e-05, 7.92247623e-05],\n",
       "         [0.00000000e+00, 0.00000000e+00, 0.00000000e+00, ...,\n",
       "          1.15560574e-02, 3.06208655e-04, 2.64865217e-04],\n",
       "         [0.00000000e+00, 0.00000000e+00, 0.00000000e+00, ...,\n",
       "          7.14430027e-04, 2.90104003e-03, 2.42536889e-03]], shape=(22, 137)),\n",
       "  'times': array([[ 0. ,  0.1,  0.2,  0.3,  0.4,  0.5,  0.6,  0.7,  0.8,  0.9,  1. ,\n",
       "           1.1,  1.2,  1.3,  1.4,  1.5,  1.6,  1.7,  1.8,  1.9,  2. ,  2.1,\n",
       "           2.2,  2.3,  2.4,  2.5,  2.6,  2.7,  2.8,  2.9,  3. ,  3.1,  3.2,\n",
       "           3.3,  3.4,  3.5,  3.6,  3.7,  3.8,  3.9,  4. ,  4.1,  4.2,  4.3,\n",
       "           4.4,  4.5,  4.6,  4.7,  4.8,  4.9,  5. ,  5.1,  5.2,  5.3,  5.4,\n",
       "           5.5,  5.6,  5.7,  5.8,  5.9,  6. ,  6.1,  6.2,  6.3,  6.4,  6.5,\n",
       "           6.6,  6.7,  6.8,  6.9,  7. ,  7.1,  7.2,  7.3,  7.4,  7.5,  7.6,\n",
       "           7.7,  7.8,  7.9,  8. ,  8.1,  8.2,  8.3,  8.4,  8.5,  8.6,  8.7,\n",
       "           8.8,  8.9,  9. ,  9.1,  9.2,  9.3,  9.4,  9.5,  9.6,  9.7,  9.8,\n",
       "           9.9, 10. , 10.1, 10.2, 10.3, 10.4, 10.5, 10.6, 10.7, 10.8, 10.9,\n",
       "          11. , 11.1, 11.2, 11.3, 11.4, 11.5, 11.6, 11.7, 11.8, 11.9, 12. ,\n",
       "          12.1, 12.2, 12.3, 12.4, 12.5, 12.6, 12.7, 12.8, 12.9, 13. , 13.1,\n",
       "          13.2, 13.3, 13.4, 13.5, 13.6]]),\n",
       "  'sm': array([1.32345865e+11, 1.59253547e+11, 1.34115201e+09, 1.71817925e+09,\n",
       "         1.23356746e+08, 8.25421853e+10, 6.90028643e+08, 1.50844043e+08,\n",
       "         5.12794888e+09, 1.03740473e+09, 8.55553664e+10, 4.09956860e+09,\n",
       "         1.04320237e+11, 1.40664938e+06, 9.43373296e+09, 2.94313309e+10,\n",
       "         3.56205342e+06, 1.45028574e+11, 1.58468496e+11, 2.36983167e+06,\n",
       "         5.09225817e+07, 3.49394364e+07]),\n",
       "  'ngal': 22},\n",
       " 'g14': {'sfh_raw': array([[0.00000e+00, 8.96306e-03, 3.41717e-02, ..., 1.46086e+00,\n",
       "          1.40067e+00, 1.41653e+00],\n",
       "         [0.00000e+00, 8.00273e-04, 1.36046e-03, ..., 3.00850e-01,\n",
       "          3.38199e-01, 3.53280e-01],\n",
       "         [0.00000e+00, 5.52188e-03, 2.55288e-02, ..., 4.16457e-01,\n",
       "          4.05960e-01, 4.48606e-01],\n",
       "         ...,\n",
       "         [0.00000e+00, 2.56087e-03, 5.52188e-03, ..., 4.25884e-01,\n",
       "          4.74455e-01, 4.26172e-01],\n",
       "         [0.00000e+00, 1.38447e-02, 7.05033e-02, ..., 1.81431e+00,\n",
       "          1.90050e+00, 1.77034e+00],\n",
       "         [1.52052e-03, 1.24843e-02, 3.74529e-02, ..., 2.46687e+00,\n",
       "          4.98462e+00, 1.96414e+00]], shape=(8, 137)),\n",
       "  'times': array([[ 0.05,  0.15,  0.25,  0.35,  0.45,  0.55,  0.65,  0.75,  0.85,\n",
       "           0.95,  1.05,  1.15,  1.25,  1.35,  1.45,  1.55,  1.65,  1.75,\n",
       "           1.85,  1.95,  2.05,  2.15,  2.25,  2.35,  2.45,  2.55,  2.65,\n",
       "           2.75,  2.85,  2.95,  3.05,  3.15,  3.25,  3.35,  3.45,  3.55,\n",
       "           3.65,  3.75,  3.85,  3.95,  4.05,  4.15,  4.25,  4.35,  4.45,\n",
       "           4.55,  4.65,  4.75,  4.85,  4.95,  5.05,  5.15,  5.25,  5.35,\n",
       "           5.45,  5.55,  5.65,  5.75,  5.85,  5.95,  6.05,  6.15,  6.25,\n",
       "           6.35,  6.45,  6.55,  6.65,  6.75,  6.85,  6.95,  7.05,  7.15,\n",
       "           7.25,  7.35,  7.45,  7.55,  7.65,  7.75,  7.85,  7.95,  8.05,\n",
       "           8.15,  8.25,  8.35,  8.45,  8.55,  8.65,  8.75,  8.85,  8.95,\n",
       "           9.05,  9.15,  9.25,  9.35,  9.45,  9.55,  9.65,  9.75,  9.85,\n",
       "           9.95, 10.05, 10.15, 10.25, 10.35, 10.45, 10.55, 10.65, 10.75,\n",
       "          10.85, 10.95, 11.05, 11.15, 11.25, 11.35, 11.45, 11.55, 11.65,\n",
       "          11.75, 11.85, 11.95, 12.05, 12.15, 12.25, 12.35, 12.45, 12.55,\n",
       "          12.65, 12.75, 12.85, 12.95, 13.05, 13.15, 13.25, 13.35, 13.45,\n",
       "          13.55, 13.65]]),\n",
       "  'sm': array([3.63988111e+10, 3.26499002e+09, 3.80678244e+09, 3.85933907e+10,\n",
       "         1.03192322e+09, 6.46142430e+09, 3.70373304e+10, 3.86449850e+10]),\n",
       "  'ngal': 8},\n",
       " 'Marvel_JL': {'sfh_raw': array([[1.59063e-04, 6.20347e-03, 1.78151e-02, 1.47211e-01, 1.81252e-01,\n",
       "          2.53235e-01, 4.14045e-01, 4.77980e-01, 6.02587e-01, 9.95416e-01,\n",
       "          1.51365e+00, 2.43799e+00, 1.93081e+00, 3.04465e+00, 3.58926e+00,\n",
       "          2.84792e+00, 3.52734e+00, 3.68710e+00, 5.68540e+00, 3.83698e+00,\n",
       "          7.24556e+00, 5.06061e+00, 6.28902e+00, 8.39452e+00, 9.46389e+00,\n",
       "          1.21424e+01, 1.06723e+01, 1.19204e+01, 1.18824e+01, 1.20381e+01,\n",
       "          1.72262e+01, 1.57074e+01, 1.23623e+01, 1.47207e+01, 1.55027e+01,\n",
       "          1.65801e+01, 1.89231e+01, 1.90227e+01, 2.70019e+01, 2.12964e+01,\n",
       "          2.08213e+01, 2.09615e+01, 2.58870e+01, 2.31103e+01, 2.76185e+01,\n",
       "          2.36440e+01, 2.06789e+01, 2.44665e+01, 2.10543e+01, 2.53421e+01,\n",
       "          2.50617e+01, 2.55472e+01, 2.63716e+01, 2.51330e+01, 2.53090e+01,\n",
       "          2.61928e+01, 2.43957e+01, 2.52862e+01, 2.52723e+01, 2.22273e+01,\n",
       "          2.19801e+01, 2.20416e+01, 2.05661e+01, 1.83537e+01, 1.80458e+01,\n",
       "          1.73650e+01, 1.69537e+01, 1.81712e+01, 1.55292e+01, 1.44823e+01,\n",
       "          1.51665e+01, 1.44691e+01, 1.74520e+01, 1.52409e+01, 1.25550e+01,\n",
       "          1.12140e+01, 1.13355e+01, 1.10771e+01, 1.13185e+01, 1.05527e+01,\n",
       "          1.16401e+01, 1.16031e+01, 1.09922e+01, 1.19325e+01, 1.13482e+01,\n",
       "          1.15488e+01, 1.20730e+01, 1.21548e+01, 1.05524e+01, 7.28966e+00,\n",
       "          7.11759e+00, 6.50278e+00, 5.71293e+00, 5.53513e+00, 5.03800e+00,\n",
       "          4.75655e+00, 4.44334e+00, 4.21691e+00, 4.06097e+00, 3.83777e+00,\n",
       "          3.88407e+00, 3.61622e+00, 3.54756e+00, 3.56104e+00, 3.54662e+00,\n",
       "          3.51540e+00, 3.51351e+00, 3.42399e+00, 3.39295e+00, 3.38741e+00,\n",
       "          3.29316e+00, 3.21833e+00, 3.38191e+00, 3.52820e+00, 3.36161e+00,\n",
       "          3.10193e+00, 3.15063e+00, 3.38508e+00, 3.39747e+00, 3.12372e+00,\n",
       "          3.07773e+00, 3.15423e+00, 3.44816e+00, 3.24761e+00, 3.16330e+00,\n",
       "          3.13172e+00, 3.16870e+00, 3.19044e+00, 3.23756e+00, 3.25227e+00,\n",
       "          3.11198e+00, 3.26813e+00, 3.23012e+00, 3.19858e+00, 3.15733e+00,\n",
       "          3.13213e+00, 3.10356e+00, 3.11969e+00],\n",
       "         [7.95316e-05, 2.62455e-03, 1.07368e-02, 0.00000e+00, 1.47529e-01,\n",
       "          1.19455e-01, 1.96603e-01, 6.90775e-01, 1.24527e+00, 1.10666e+00,\n",
       "          1.63778e+00, 2.13104e+00, 2.30010e+00, 2.41174e+00, 2.17398e+00,\n",
       "          2.47231e+00, 2.51146e+00, 4.20399e+00, 4.18326e+00, 2.65349e+00,\n",
       "          3.64004e+00, 4.13032e+00, 5.69725e+00, 6.74036e+00, 5.29489e+00,\n",
       "          4.38067e+00, 3.63446e+00, 5.22456e+00, 5.47884e+00, 5.05245e+00,\n",
       "          5.95728e+00, 6.38193e+00, 7.87419e+00, 9.34726e+00, 1.11333e+01,\n",
       "          1.13585e+01, 1.07961e+01, 1.34266e+01, 1.19751e+01, 1.31734e+01,\n",
       "          1.34685e+01, 1.59068e+01, 1.42741e+01, 1.87379e+01, 1.85191e+01,\n",
       "          1.81580e+01, 1.75412e+01, 1.74197e+01, 1.83284e+01, 1.89957e+01,\n",
       "          1.74924e+01, 1.42347e+01, 1.63971e+01, 1.53194e+01, 1.51350e+01,\n",
       "          1.51963e+01, 1.70875e+01, 1.57602e+01, 1.55186e+01, 1.47531e+01,\n",
       "          1.39486e+01, 1.30662e+01, 1.36537e+01, 1.27651e+01, 1.23170e+01,\n",
       "          1.35209e+01, 1.10725e+01, 1.41313e+01, 1.06979e+01, 1.33987e+01,\n",
       "          1.10426e+01, 1.26455e+01, 1.18083e+01, 1.23442e+01, 1.23449e+01,\n",
       "          1.12849e+01, 1.34872e+01, 1.06020e+01, 1.34498e+01, 1.13971e+01,\n",
       "          1.29079e+01, 1.17212e+01, 1.21556e+01, 1.13344e+01, 1.26942e+01,\n",
       "          1.13711e+01, 1.36619e+01, 1.31068e+01, 1.19802e+01, 1.39733e+01,\n",
       "          1.12203e+01, 1.43374e+01, 1.50332e+01, 1.37221e+01, 1.45013e+01,\n",
       "          1.33591e+01, 1.29340e+01, 1.31032e+01, 1.21968e+01, 1.22023e+01,\n",
       "          1.19165e+01, 1.17213e+01, 1.17530e+01, 1.14785e+01, 1.09322e+01,\n",
       "          1.08585e+01, 1.04365e+01, 1.25199e+01, 1.30427e+01, 1.41534e+01,\n",
       "          1.41167e+01, 1.39964e+01, 1.39690e+01, 1.35135e+01, 1.17064e+01,\n",
       "          9.87528e+00, 9.54240e+00, 9.16949e+00, 9.02298e+00, 9.56781e+00,\n",
       "          1.04013e+01, 1.06859e+01, 1.04785e+01, 9.97738e+00, 9.94642e+00,\n",
       "          9.02773e+00, 8.68415e+00, 9.05263e+00, 7.73007e+00, 7.91128e+00,\n",
       "          7.23404e+00, 6.73163e+00, 6.65088e+00, 6.94787e+00, 7.20852e+00,\n",
       "          7.24732e+00, 7.03182e+00, 6.75147e+00],\n",
       "         [0.00000e+00, 0.00000e+00, 1.98828e-03, 2.06781e-02, 1.50789e-01,\n",
       "          2.50371e-01, 5.20045e-01, 4.32732e-01, 9.88577e-01, 1.38753e+00,\n",
       "          1.75738e+00, 1.67483e+00, 1.90004e+00, 2.61754e+00, 2.90689e+00,\n",
       "          4.50581e+00, 3.64393e+00, 3.58998e+00, 4.99450e+00, 4.47650e+00,\n",
       "          5.43709e+00, 5.90308e+00, 7.76167e+00, 7.92606e+00, 6.13017e+00,\n",
       "          1.77675e+01, 6.09560e+00, 9.27891e+00, 1.20739e+01, 1.41650e+01,\n",
       "          1.66227e+01, 1.65296e+01, 1.68654e+01, 2.04808e+01, 2.33343e+01,\n",
       "          2.52682e+01, 2.30060e+01, 3.23251e+01, 3.86084e+01, 3.00792e+01,\n",
       "          3.98057e+01, 4.19465e+01, 3.39392e+01, 4.22269e+01, 3.66427e+01,\n",
       "          4.23124e+01, 4.22920e+01, 4.16088e+01, 3.86119e+01, 3.51232e+01,\n",
       "          3.19494e+01, 3.68974e+01, 3.81819e+01, 3.27310e+01, 3.93782e+01,\n",
       "          3.34457e+01, 3.92764e+01, 3.13376e+01, 3.14771e+01, 3.34137e+01,\n",
       "          2.96074e+01, 3.34818e+01, 3.06316e+01, 3.25207e+01, 2.99168e+01,\n",
       "          2.97124e+01, 3.09274e+01, 2.81265e+01, 2.85797e+01, 2.85707e+01,\n",
       "          2.58444e+01, 2.85407e+01, 2.83681e+01, 2.66145e+01, 3.13118e+01,\n",
       "          2.79606e+01, 2.65518e+01, 2.96542e+01, 2.63564e+01, 3.01236e+01,\n",
       "          2.89587e+01, 2.87561e+01, 3.09655e+01, 2.83266e+01, 3.24566e+01,\n",
       "          3.07875e+01, 3.08869e+01, 2.91886e+01, 2.83661e+01, 2.87659e+01,\n",
       "          2.62323e+01, 2.77076e+01, 2.69348e+01, 2.61133e+01, 2.62752e+01,\n",
       "          2.46597e+01, 2.46775e+01, 2.45306e+01, 2.38977e+01, 2.34983e+01,\n",
       "          2.30945e+01, 2.21622e+01, 2.16815e+01, 2.07795e+01, 2.29619e+01,\n",
       "          2.12107e+01, 1.85125e+01, 2.00745e+01, 1.86177e+01, 1.86549e+01,\n",
       "          1.86768e+01, 1.99665e+01, 1.93585e+01, 1.63332e+01, 1.91664e+01,\n",
       "          1.70879e+01, 1.79480e+01, 1.82632e+01, 1.76160e+01, 1.68203e+01,\n",
       "          1.61037e+01, 1.54228e+01, 1.46016e+01, 1.52228e+01, 1.47893e+01,\n",
       "          1.54481e+01, 1.49357e+01, 1.58163e+01, 1.60731e+01, 1.68522e+01,\n",
       "          1.71266e+01, 1.71457e+01, 1.70439e+01, 1.76003e+01, 1.77506e+01,\n",
       "          1.78415e+01, 1.77917e+01, 1.81304e+01],\n",
       "         [0.00000e+00, 9.54380e-04, 1.20888e-02, 8.72455e-02, 2.31919e-01,\n",
       "          4.09831e-01, 1.06221e+00, 1.57424e+00, 2.03148e+00, 3.58377e+00,\n",
       "          5.18318e+00, 9.39416e+00, 7.43116e+00, 1.39195e+01, 1.15864e+01,\n",
       "          1.18571e+01, 1.20548e+01, 1.31979e+01, 1.67667e+01, 1.69103e+01,\n",
       "          1.76883e+01, 1.92374e+01, 2.29699e+01, 2.07723e+01, 2.29467e+01,\n",
       "          2.16265e+01, 2.52300e+01, 2.29424e+01, 2.20937e+01, 2.24824e+01,\n",
       "          2.15587e+01, 2.25616e+01, 2.34542e+01, 2.36188e+01, 2.48097e+01,\n",
       "          2.57712e+01, 2.63957e+01, 2.31310e+01, 2.55482e+01, 2.10197e+01,\n",
       "          2.73697e+01, 2.70558e+01, 2.75750e+01, 2.80811e+01, 2.51817e+01,\n",
       "          2.18332e+01, 2.08844e+01, 1.96442e+01, 1.71076e+01, 1.89297e+01,\n",
       "          1.58690e+01, 1.37425e+01, 1.40130e+01, 1.37344e+01, 1.19820e+01,\n",
       "          1.16400e+01, 1.10221e+01, 1.03445e+01, 1.06375e+01, 9.60402e+00,\n",
       "          9.87986e+00, 9.47983e+00, 9.48656e+00, 9.12320e+00, 9.01445e+00,\n",
       "          8.52675e+00, 8.89003e+00, 8.48948e+00, 8.77100e+00, 8.50750e+00,\n",
       "          8.39662e+00, 7.91543e+00, 8.30755e+00, 7.95073e+00, 7.92465e+00,\n",
       "          7.68310e+00, 7.62246e+00, 7.69725e+00, 7.75543e+00, 7.67848e+00,\n",
       "          7.36448e+00, 7.61520e+00, 7.58132e+00, 7.77660e+00, 7.60331e+00,\n",
       "          7.83127e+00, 8.09698e+00, 7.83695e+00, 7.87330e+00, 7.92867e+00,\n",
       "          7.96269e+00, 8.05345e+00, 7.83296e+00, 8.60376e+00, 8.44606e+00,\n",
       "          8.39025e+00, 1.04381e+01, 1.58003e+01, 1.21390e+01, 8.84020e+00,\n",
       "          1.06294e+01, 1.20567e+01, 2.56038e+01, 1.06889e+01, 1.06064e+01,\n",
       "          1.09590e+01, 1.10634e+01, 9.99168e+00, 1.02872e+01, 9.35303e+00,\n",
       "          9.00623e+00, 8.41677e+00, 8.43356e+00, 8.10069e+00, 7.91647e+00,\n",
       "          7.90298e+00, 7.86369e+00, 7.46742e+00, 7.28328e+00, 7.35285e+00,\n",
       "          7.38526e+00, 6.81572e+00, 6.56950e+00, 6.67895e+00, 6.84506e+00,\n",
       "          6.79196e+00, 7.01238e+00, 6.59944e+00, 6.42496e+00, 6.63436e+00,\n",
       "          6.98679e+00, 6.57440e+00, 6.37058e+00, 6.54864e+00, 6.88203e+00,\n",
       "          6.66434e+00, 6.46490e+00, 6.35800e+00],\n",
       "         [0.00000e+00, 0.00000e+00, 0.00000e+00, 0.00000e+00, 8.44069e-06,\n",
       "          4.68221e-02, 2.91529e-02, 1.71419e-01, 1.07348e-01, 1.93314e-01,\n",
       "          1.14741e-01, 5.27272e-01, 3.24570e-01, 2.17463e-01, 3.31681e-01,\n",
       "          2.57429e-01, 2.17528e-01, 5.79314e-01, 2.28424e-01, 2.05025e-01,\n",
       "          3.07626e-01, 1.77602e-01, 1.82928e-01, 2.78441e-01, 2.78802e-01,\n",
       "          2.10930e-01, 1.22310e-01, 1.00221e-01, 1.11018e-01, 1.51659e-01,\n",
       "          1.84285e-01, 1.41780e-01, 4.34584e-01, 1.43102e-01, 3.14209e-01,\n",
       "          4.44678e-01, 1.96340e-01, 1.39605e-01, 2.28443e-01, 2.40825e-01,\n",
       "          7.50966e-01, 2.27243e-01, 4.19478e-01, 1.56955e-01, 2.71891e-01,\n",
       "          1.32977e-01, 1.50429e-01, 1.59014e-01, 1.42286e-01, 1.70000e-01,\n",
       "          1.34652e-01, 1.51667e-01, 1.08631e-01, 1.85441e-01, 1.30844e-01,\n",
       "          1.21993e-01, 9.84624e-02, 1.08576e-01, 8.67286e-02, 8.04629e-02,\n",
       "          8.54264e-02, 8.16225e-02, 1.17920e-01, 1.03130e-01, 8.29563e-02,\n",
       "          6.06782e-02, 9.43423e-02, 7.19942e-02, 9.14019e-02, 1.26134e-01,\n",
       "          9.81157e-02, 8.52572e-02, 1.11823e-01, 1.01451e-01, 1.50551e-01,\n",
       "          1.06944e-01, 1.40609e-01, 1.40746e-01, 1.37461e-01, 1.02496e-01,\n",
       "          1.78520e-01, 1.21449e-01, 1.39357e-01, 1.97547e-01, 9.51700e-02,\n",
       "          1.73659e-01, 1.42911e-01, 1.45771e-01, 1.81045e-01, 1.83417e-01,\n",
       "          1.56243e-01, 1.71022e-01, 1.64572e-01, 2.02758e-01, 1.74765e-01,\n",
       "          1.51451e-01, 2.13492e-01, 1.56717e-01, 1.92906e-01, 1.43947e-01,\n",
       "          1.74576e-01, 1.62089e-01, 2.00835e-01, 1.75115e-01, 1.39239e-01,\n",
       "          1.91335e-01, 1.41484e-01, 1.58977e-01, 1.52800e-01, 1.75245e-01,\n",
       "          2.00259e-01, 1.82233e-01, 2.00830e-01, 1.83996e-01, 2.48462e-01,\n",
       "          2.13157e-01, 2.06544e-01, 1.71127e-01, 2.05523e-01, 1.95146e-01,\n",
       "          2.09795e-01, 2.36850e-01, 2.11256e-01, 2.44125e-01, 2.36686e-01,\n",
       "          2.12072e-01, 2.02803e-01, 2.30282e-01, 2.77238e-01, 2.33982e-01,\n",
       "          2.39475e-01, 2.62596e-01, 3.14450e-01, 3.79528e-01, 3.10566e-01,\n",
       "          2.74337e-01, 3.22755e-01, 1.63239e-01]]),\n",
       "  'times': array([[ 0.05,  0.15,  0.25,  0.35,  0.45,  0.55,  0.65,  0.75,  0.85,\n",
       "           0.95,  1.05,  1.15,  1.25,  1.35,  1.45,  1.55,  1.65,  1.75,\n",
       "           1.85,  1.95,  2.05,  2.15,  2.25,  2.35,  2.45,  2.55,  2.65,\n",
       "           2.75,  2.85,  2.95,  3.05,  3.15,  3.25,  3.35,  3.45,  3.55,\n",
       "           3.65,  3.75,  3.85,  3.95,  4.05,  4.15,  4.25,  4.35,  4.45,\n",
       "           4.55,  4.65,  4.75,  4.85,  4.95,  5.05,  5.15,  5.25,  5.35,\n",
       "           5.45,  5.55,  5.65,  5.75,  5.85,  5.95,  6.05,  6.15,  6.25,\n",
       "           6.35,  6.45,  6.55,  6.65,  6.75,  6.85,  6.95,  7.05,  7.15,\n",
       "           7.25,  7.35,  7.45,  7.55,  7.65,  7.75,  7.85,  7.95,  8.05,\n",
       "           8.15,  8.25,  8.35,  8.45,  8.55,  8.65,  8.75,  8.85,  8.95,\n",
       "           9.05,  9.15,  9.25,  9.35,  9.45,  9.55,  9.65,  9.75,  9.85,\n",
       "           9.95, 10.05, 10.15, 10.25, 10.35, 10.45, 10.55, 10.65, 10.75,\n",
       "          10.85, 10.95, 11.05, 11.15, 11.25, 11.35, 11.45, 11.55, 11.65,\n",
       "          11.75, 11.85, 11.95, 12.05, 12.15, 12.25, 12.35, 12.45, 12.55,\n",
       "          12.65, 12.75, 12.85, 12.95, 13.05, 13.15, 13.25, 13.35, 13.45,\n",
       "          13.55, 13.65, 13.75]]),\n",
       "  'sm': array([8.81596151e+10, 9.01854198e+10, 1.88705401e+11, 1.02034936e+11,\n",
       "         1.64546783e+09]),\n",
       "  'ngal': 5}}"
      ]
     },
     "execution_count": 9,
     "metadata": {},
     "output_type": "execute_result"
    }
   ],
   "source": [
    "zoom_data_raw"
   ]
  },
  {
   "cell_type": "code",
   "execution_count": 10,
   "id": "00tosq5krzv3g",
   "metadata": {},
   "outputs": [
    {
     "name": "stdout",
     "output_type": "stream",
     "text": [
      "Generating UMAP embedding...\n"
     ]
    },
    {
     "name": "stderr",
     "output_type": "stream",
     "text": [
      "C:\\Users\\joshs\\AppData\\Roaming\\Python\\Python313\\site-packages\\umap\\umap_.py:1952: UserWarning: n_jobs value 1 overridden to 1 by setting random_state. Use no seed for parallelism.\n",
      "  warn(\n"
     ]
    },
    {
     "name": "stdout",
     "output_type": "stream",
     "text": [
      "UMAP embedding shape: (63118, 2)\n"
     ]
    }
   ],
   "source": [
    "# Generate UMAP embedding\n",
    "import umap\n",
    "from sklearn.preprocessing import MinMaxScaler\n",
    "import pickle\n",
    "\n",
    "print(\"Generating UMAP embedding...\")\n",
    "\n",
    "# Create UMAP reducer (with combined data from all simulations + zooms)\n",
    "reducer = umap.UMAP(random_state=13)\n",
    "embedding_unscaled = reducer.fit_transform(np.vstack([combined_sfh, zoom_sfh]) \n",
    "                                           if zoom_sfh is not None else combined_sfh)\n",
    "\n",
    "# Normalize to [0, 10] range as in original\n",
    "scaler = MinMaxScaler(feature_range=(0, 10))\n",
    "embedding = scaler.fit_transform(embedding_unscaled)\n",
    "\n",
    "print(f\"UMAP embedding shape: {embedding.shape}\")\n",
    "\n",
    "# Split up into main sims and zooms\n",
    "if zoom_sfh is not None:\n",
    "    zoom_embedding = embedding[combined_sfh.shape[0]:]\n",
    "    embedding = embedding[:combined_sfh.shape[0]]"
   ]
  },
  {
   "cell_type": "markdown",
   "id": "13",
   "metadata": {},
   "source": [
    "## Save All Processed Data\n",
    "\n",
    "Save the processed data and UMAP embeddings for use in subsequent notebooks."
   ]
  },
  {
   "cell_type": "code",
   "execution_count": 11,
   "id": "14",
   "metadata": {},
   "outputs": [
    {
     "name": "stdout",
     "output_type": "stream",
     "text": [
      "All processed data saved successfully!\n",
      "\n",
      "Files created:\n",
      "- ../data/sim_data_processed.pkl\n",
      "- ../data/zoom_data_processed.pkl\n",
      "- ../data/combined_sfh.npy\n",
      "- ../data/combined_labels.npy\n",
      "- ../data/umap_embedding.npy\n",
      "- ../data/zoom_umap_embedding.npy\n",
      "- ../data/umap_models.pkl\n"
     ]
    }
   ],
   "source": [
    "# Create figures directory if it doesn't exist\n",
    "os.makedirs('../figures', exist_ok=True)\n",
    "\n",
    "# Save simulation data\n",
    "with open('../data/sim_data_raw.pkl', 'wb') as f:\n",
    "    pickle.dump(sim_data_raw, f)\n",
    "with open('../data/sim_data_processed.pkl', 'wb') as f:\n",
    "    pickle.dump(sim_data_clean, f)\n",
    "\n",
    "# Save zoom simulation data\n",
    "with open('../data/zoom_data_raw.pkl', 'wb') as f:\n",
    "    pickle.dump(zoom_data_raw, f)\n",
    "with open('../data/zoom_data_processed.pkl', 'wb') as f:\n",
    "    pickle.dump(zoom_data_clean, f)\n",
    "\n",
    "# Save combined arrays for UMAP analysis\n",
    "np.save('../data/combined_sfh.npy', combined_sfh)\n",
    "np.save('../data/combined_labels.npy', combined_labels)\n",
    "\n",
    "# Save UMAP embeddings and models for reproducibility\n",
    "np.save('../data/umap_embedding.npy', embedding)\n",
    "if zoom_embedding is not None:\n",
    "    np.save('../data/zoom_umap_embedding.npy', zoom_embedding)\n",
    "\n",
    "# Save UMAP parameters and models\n",
    "umap_data = {\n",
    "    'reducer': reducer,\n",
    "    'scaler': scaler,\n",
    "    'random_state': 13,\n",
    "    'feature_range': (0, 10)\n",
    "}\n",
    "with open('../data/umap_models.pkl', 'wb') as f:\n",
    "    pickle.dump(umap_data, f)\n",
    "\n",
    "print(\"All processed data saved successfully!\")\n",
    "print(\"\\nFiles created:\")\n",
    "print(\"- ../data/sim_data_processed.pkl\")\n",
    "print(\"- ../data/zoom_data_processed.pkl\") \n",
    "print(\"- ../data/combined_sfh.npy\")\n",
    "print(\"- ../data/combined_labels.npy\")\n",
    "print(\"- ../data/umap_embedding.npy\")\n",
    "if zoom_embedding is not None:\n",
    "    print(\"- ../data/zoom_umap_embedding.npy\")\n",
    "print(\"- ../data/umap_models.pkl\")"
   ]
  },
  {
   "cell_type": "code",
   "execution_count": 12,
   "id": "ix8m4ca38ct",
   "metadata": {},
   "outputs": [
    {
     "name": "stdout",
     "output_type": "stream",
     "text": [
      "Final galaxy counts by simulation:\n",
      "----------------------------------------\n",
      "          EAGLE:    7,445 galaxies ( 11.8%)\n",
      "      Illustris:   19,354 galaxies ( 30.7%)\n",
      "   IllustrisTNG:   12,220 galaxies ( 19.4%)\n",
      "         Mufasa:    1,900 galaxies (  3.0%)\n",
      "          Simba:    1,982 galaxies (  3.1%)\n",
      "         SC-SAM:   12,821 galaxies ( 20.3%)\n",
      "UniverseMachine:    7,361 galaxies ( 11.7%)\n",
      "----------------------------------------\n",
      "          Total:   63,083 galaxies\n",
      "\n",
      "Zoom simulations: 35 galaxies\n"
     ]
    }
   ],
   "source": [
    "# Summary statistics\n",
    "print(\"Final galaxy counts by simulation:\")\n",
    "print(\"-\" * 40)\n",
    "\n",
    "for sim_idx, sim in enumerate(sim_name):\n",
    "    if sim_data_clean[sim] is not None:\n",
    "        sim_mask = combined_labels == sim_idx\n",
    "        count = np.sum(sim_mask)\n",
    "        percentage = 100 * count / len(combined_labels)\n",
    "        print(f\"{sim:>15s}: {count:>8,d} galaxies ({percentage:5.1f}%)\")\n",
    "    \n",
    "print(\"-\" * 40)\n",
    "print(f\"{'Total':>15s}: {len(combined_labels):>8,d} galaxies\")\n",
    "\n",
    "if zoom_embedding is not None:\n",
    "    print(f\"\\nZoom simulations: {len(zoom_embedding):,} galaxies\")"
   ]
  }
 ],
 "metadata": {
  "kernelspec": {
   "display_name": "Python 3",
   "language": "python",
   "name": "python3"
  },
  "language_info": {
   "codemirror_mode": {
    "name": "ipython",
    "version": 3
   },
   "file_extension": ".py",
   "mimetype": "text/x-python",
   "name": "python",
   "nbconvert_exporter": "python",
   "pygments_lexer": "ipython3",
   "version": "3.13.6"
  }
 },
 "nbformat": 4,
 "nbformat_minor": 5
}
