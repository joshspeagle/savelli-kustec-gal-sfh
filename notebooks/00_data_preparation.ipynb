{
 "cells": [
  {
   "cell_type": "markdown",
   "id": "1",
   "metadata": {},
   "source": [
    "# 00 - Data Preparation\n",
    "\n",
    "This notebook loads and preprocesses all data files used in the SFH analysis."
   ]
  },
  {
   "cell_type": "code",
   "execution_count": 1,
   "id": "2",
   "metadata": {},
   "outputs": [],
   "source": [
    "import sys\n",
    "import numpy as np\n",
    "import os\n",
    "\n",
    "# Add src to path\n",
    "sys.path.append('../src')\n",
    "\n",
    "from utils.data_processing import (\n",
    "    load_iyer_data, \n",
    "    load_autoencoder_data,\n",
    "    apply_mass_cuts,\n",
    "    remove_zero_sfhs,\n",
    "    prepare_umap_data\n",
    ")\n",
    "from utils.analysis import sim_name"
   ]
  },
  {
   "cell_type": "markdown",
   "id": "3",
   "metadata": {},
   "source": [
    "## Load Raw Data"
   ]
  },
  {
   "cell_type": "markdown",
   "id": "3ef090bd",
   "metadata": {},
   "source": [
    "## Data Sources:\n",
    "1. **Iyer et al. 2020 SFH Data** - Star formation histories from multiple simulations\n",
    "2. **Autoencoder Results** - Predictions from multimodal autoencoder analysis"
   ]
  },
  {
   "cell_type": "code",
   "execution_count": 2,
   "id": "4",
   "metadata": {},
   "outputs": [
    {
     "name": "stdout",
     "output_type": "stream",
     "text": [
      "Loading Iyer et al. 2020 simulation data...\n",
      "Loaded EAGLE data: 16710 galaxies\n",
      "Loaded Illustris data: 19354 galaxies\n",
      "Loaded IllustrisTNG data: 12220 galaxies\n",
      "Loaded Mufasa data: 4574 galaxies\n",
      "Loaded Simba data: 4938 galaxies\n",
      "Loaded SC-SAM data: 18722 galaxies\n",
      "Loaded UniverseMachine data: 75696 galaxies\n",
      "\n",
      "Simulation summary:\n",
      "          EAGLE:   16,710 galaxies\n",
      "      Illustris:   19,354 galaxies\n",
      "   IllustrisTNG:   12,220 galaxies\n",
      "         Mufasa:    4,574 galaxies\n",
      "          Simba:    4,938 galaxies\n",
      "         SC-SAM:   18,722 galaxies\n",
      "UniverseMachine:   75,696 galaxies\n"
     ]
    }
   ],
   "source": [
    "# Load Iyer et al. 2020 simulation data\n",
    "print(\"Loading Iyer et al. 2020 simulation data...\")\n",
    "sim_data_raw = load_iyer_data()\n",
    "\n",
    "print(\"\\nSimulation summary:\")\n",
    "for sim in sim_name:\n",
    "    if sim_data_raw[sim] is not None:\n",
    "        ngal = sim_data_raw[sim]['ngal']\n",
    "        print(f\"{sim:>15s}: {ngal:>8,d} galaxies\")\n",
    "    else:\n",
    "        print(f\"{sim:>15s}: No data\")"
   ]
  },
  {
   "cell_type": "code",
   "execution_count": 3,
   "id": "34136bfc",
   "metadata": {},
   "outputs": [
    {
     "name": "stdout",
     "output_type": "stream",
     "text": [
      "Loading zoom simulation data...\n",
      "Loaded FIRE-2 data: 22 galaxies\n",
      "Loaded g14 data: 8 galaxies\n",
      "Loaded Marvel_JL data: 5 galaxies\n"
     ]
    }
   ],
   "source": [
    "# Load and process zoom simulation data  \n",
    "print(\"Loading zoom simulation data...\")\n",
    "zoom_data_raw = load_iyer_data(sim_name_list=['FIRE-2', 'g14', 'Marvel_JL'])"
   ]
  },
  {
   "cell_type": "code",
   "execution_count": 4,
   "id": "5",
   "metadata": {},
   "outputs": [
    {
     "name": "stdout",
     "output_type": "stream",
     "text": [
      "Loading autoencoder results...\n",
      "Loaded predictions_sfh.npy: shape (63083, 139)\n",
      "Loaded predictions_sfh_w.npy: shape (63083, 139)\n",
      "Loaded predictions_sfr.npy: shape (63083, 2)\n",
      "Loaded predictions_sfr_w.npy: shape (63083, 2)\n",
      "Loaded predictions_sim.npy: shape (63083, 7)\n",
      "Loaded predictions_sim_w.npy: shape (63083, 7)\n",
      "\n",
      "Autoencoder data summary:\n",
      "     predictions_sfh: (63083, 139)\n",
      "   predictions_sfh_w: (63083, 139)\n",
      "     predictions_sfr: (63083, 2)\n",
      "   predictions_sfr_w: (63083, 2)\n",
      "     predictions_sim: (63083, 7)\n",
      "   predictions_sim_w: (63083, 7)\n"
     ]
    }
   ],
   "source": [
    "# Load autoencoder results\n",
    "print(\"Loading autoencoder results...\")\n",
    "ae_data = load_autoencoder_data()\n",
    "\n",
    "print(\"\\nAutoencoder data summary:\")\n",
    "for key, data in ae_data.items():\n",
    "    print(f\"{key:>20s}: {data.shape}\")"
   ]
  },
  {
   "cell_type": "markdown",
   "id": "6",
   "metadata": {},
   "source": [
    "## Apply Data Processing Steps"
   ]
  },
  {
   "cell_type": "markdown",
   "id": "d8bf556d",
   "metadata": {},
   "source": [
    "1. Apply mass cuts\n",
    "2. Remove zero SFHs\n",
    "3. Normalize/interpolate SFHs (prepare data for UMAP analysis)"
   ]
  },
  {
   "cell_type": "code",
   "execution_count": 5,
   "id": "7",
   "metadata": {},
   "outputs": [
    {
     "name": "stdout",
     "output_type": "stream",
     "text": [
      "Applying mass cuts...\n",
      "EAGLE: 7482/16710 galaxies after M* > 1e+09 cut\n",
      "Illustris: 19354/19354 galaxies after M* > 1e+09 cut\n",
      "IllustrisTNG: 12220/12220 galaxies after M* > 1e+09 cut\n",
      "Mufasa: 1900/4574 galaxies after M* > 1e+10 cut\n",
      "Simba: 1982/4938 galaxies after M* > 1e+10 cut\n",
      "SC-SAM: 12821/18722 galaxies after M* > 1e+09 cut\n",
      "UniverseMachine: 7361/75696 galaxies after M* > 1e+09 cut\n"
     ]
    }
   ],
   "source": [
    "# Step 1: Apply mass cuts\n",
    "# Default: 10^10 for Mufasa, Simba; 10^9 for everything else\n",
    "print(\"Applying mass cuts...\")\n",
    "sim_data_cut = apply_mass_cuts(sim_data_raw)"
   ]
  },
  {
   "cell_type": "code",
   "execution_count": 6,
   "id": "8",
   "metadata": {},
   "outputs": [
    {
     "name": "stdout",
     "output_type": "stream",
     "text": [
      "\n",
      "Removing zero star formation histories...\n",
      "EAGLE: 7445/7482 galaxies after removing zero SFHs\n",
      "Illustris: 19354/19354 galaxies after removing zero SFHs\n",
      "IllustrisTNG: 12220/12220 galaxies after removing zero SFHs\n",
      "Mufasa: 1900/1900 galaxies after removing zero SFHs\n",
      "Simba: 1982/1982 galaxies after removing zero SFHs\n",
      "SC-SAM: 12821/12821 galaxies after removing zero SFHs\n",
      "UniverseMachine: 7361/7361 galaxies after removing zero SFHs\n",
      "FIRE-2: 22/22 galaxies after removing zero SFHs\n",
      "g14: 8/8 galaxies after removing zero SFHs\n",
      "Marvel_JL: 5/5 galaxies after removing zero SFHs\n"
     ]
    }
   ],
   "source": [
    "# Step 2: Remove zero SFHs\n",
    "print(\"\\nRemoving zero star formation histories...\")\n",
    "sim_data_clean = remove_zero_sfhs(sim_data_cut)\n",
    "\n",
    "# Process zoom data (no mass cuts for zooms)\n",
    "zoom_data_clean = remove_zero_sfhs(zoom_data_raw)"
   ]
  },
  {
   "cell_type": "code",
   "execution_count": 7,
   "id": "9",
   "metadata": {},
   "outputs": [
    {
     "name": "stdout",
     "output_type": "stream",
     "text": [
      "\n",
      "Preparing data for UMAP analysis...\n",
      "Combined data: 63083 total galaxies with 136 time bins\n"
     ]
    }
   ],
   "source": [
    "# Step 3: Prepare normalized data for UMAP analysis (includes interpolation)\n",
    "print(\"\\nPreparing data for UMAP analysis...\")\n",
    "combined_sfh, combined_labels = prepare_umap_data(sim_data_clean, \n",
    "                                                  normalize=True, \n",
    "                                                  remove_zeros=False)  # Already removed"
   ]
  },
  {
   "cell_type": "code",
   "execution_count": 8,
   "id": "11",
   "metadata": {},
   "outputs": [
    {
     "name": "stdout",
     "output_type": "stream",
     "text": [
      "Combined data: 35 total galaxies with 136 time bins\n"
     ]
    }
   ],
   "source": [
    "# Prepare zoom SFH data for UMAP transform using same function\n",
    "zoom_sfh, zoom_labels = prepare_umap_data(zoom_data_clean, \n",
    "                                          normalize=True, \n",
    "                                          remove_zeros=False)  # Already removed\n",
    "\n",
    "if len(zoom_sfh) > 0:\n",
    "    pass\n",
    "else:\n",
    "    print(\"No zoom simulation data loaded\")\n",
    "    zoom_sfh = None"
   ]
  },
  {
   "cell_type": "markdown",
   "id": "001477a5",
   "metadata": {},
   "source": [
    "## UMAP Analysis\n",
    "\n",
    "Generate UMAP embedding for reproducible figure generation."
   ]
  },
  {
   "cell_type": "code",
   "execution_count": 9,
   "id": "00tosq5krzv3g",
   "metadata": {},
   "outputs": [
    {
     "name": "stdout",
     "output_type": "stream",
     "text": [
      "Generating UMAP embedding...\n"
     ]
    },
    {
     "name": "stderr",
     "output_type": "stream",
     "text": [
      "C:\\Users\\joshs\\AppData\\Roaming\\Python\\Python313\\site-packages\\umap\\umap_.py:1952: UserWarning: n_jobs value 1 overridden to 1 by setting random_state. Use no seed for parallelism.\n",
      "  warn(\n"
     ]
    },
    {
     "name": "stdout",
     "output_type": "stream",
     "text": [
      "UMAP embedding shape: (63118, 2)\n"
     ]
    }
   ],
   "source": [
    "# Generate UMAP embedding\n",
    "import umap\n",
    "from sklearn.preprocessing import MinMaxScaler\n",
    "import pickle\n",
    "\n",
    "print(\"Generating UMAP embedding...\")\n",
    "\n",
    "# Create UMAP reducer (with combined data from all simulations + zooms)\n",
    "reducer = umap.UMAP(random_state=13)\n",
    "embedding_unscaled = reducer.fit_transform(np.vstack([combined_sfh, zoom_sfh]) \n",
    "                                           if zoom_sfh is not None else combined_sfh)\n",
    "\n",
    "# Normalize to [0, 10] range as in original\n",
    "scaler = MinMaxScaler(feature_range=(0, 10))\n",
    "embedding = scaler.fit_transform(embedding_unscaled)\n",
    "\n",
    "print(f\"UMAP embedding shape: {embedding.shape}\")\n",
    "\n",
    "# Split up into main sims and zooms\n",
    "if zoom_sfh is not None:\n",
    "    zoom_embedding = embedding[combined_sfh.shape[0]:]\n",
    "    embedding = embedding[:combined_sfh.shape[0]]"
   ]
  },
  {
   "cell_type": "markdown",
   "id": "13",
   "metadata": {},
   "source": [
    "## Save All Processed Data\n",
    "\n",
    "Save the processed data and UMAP embeddings for use in subsequent notebooks."
   ]
  },
  {
   "cell_type": "code",
   "execution_count": 10,
   "id": "14",
   "metadata": {},
   "outputs": [
    {
     "name": "stdout",
     "output_type": "stream",
     "text": [
      "All processed data saved successfully!\n",
      "\n",
      "Files created:\n",
      "- ../data/sim_data_processed.pkl\n",
      "- ../data/zoom_data_processed.pkl\n",
      "- ../data/combined_sfh.npy\n",
      "- ../data/combined_labels.npy\n",
      "- ../data/umap_embedding.npy\n",
      "- ../data/zoom_umap_embedding.npy\n",
      "- ../data/umap_models.pkl\n"
     ]
    }
   ],
   "source": [
    "# Create figures directory if it doesn't exist\n",
    "os.makedirs('../figures', exist_ok=True)\n",
    "\n",
    "# Save simulation data\n",
    "with open('../data/sim_data_raw.pkl', 'wb') as f:\n",
    "    pickle.dump(sim_data_raw, f)\n",
    "with open('../data/sim_data_processed.pkl', 'wb') as f:\n",
    "    pickle.dump(sim_data_clean, f)\n",
    "\n",
    "# Save zoom simulation data\n",
    "with open('../data/zoom_data_raw.pkl', 'wb') as f:\n",
    "    pickle.dump(zoom_data_raw, f)\n",
    "with open('../data/zoom_data_processed.pkl', 'wb') as f:\n",
    "    pickle.dump(zoom_data_clean, f)\n",
    "\n",
    "# Save combined arrays for UMAP analysis\n",
    "np.save('../data/combined_sfh.npy', combined_sfh)\n",
    "np.save('../data/combined_labels.npy', combined_labels)\n",
    "np.save('../data/zoom_sfh.npy', zoom_sfh)\n",
    "np.save('../data/zoom_labels.npy', zoom_labels)\n",
    "\n",
    "# Save UMAP embeddings and models for reproducibility\n",
    "np.save('../data/umap_embedding.npy', embedding)\n",
    "if zoom_embedding is not None:\n",
    "    np.save('../data/zoom_umap_embedding.npy', zoom_embedding)\n",
    "\n",
    "# Save UMAP parameters and models\n",
    "umap_data = {\n",
    "    'reducer': reducer,\n",
    "    'scaler': scaler,\n",
    "    'random_state': 13,\n",
    "    'feature_range': (0, 10)\n",
    "}\n",
    "with open('../data/umap_models.pkl', 'wb') as f:\n",
    "    pickle.dump(umap_data, f)\n",
    "\n",
    "print(\"All processed data saved successfully!\")\n",
    "print(\"\\nFiles created:\")\n",
    "print(\"- ../data/sim_data_processed.pkl\")\n",
    "print(\"- ../data/zoom_data_processed.pkl\") \n",
    "print(\"- ../data/combined_sfh.npy\")\n",
    "print(\"- ../data/combined_labels.npy\")\n",
    "print(\"- ../data/umap_embedding.npy\")\n",
    "if zoom_embedding is not None:\n",
    "    print(\"- ../data/zoom_umap_embedding.npy\")\n",
    "print(\"- ../data/umap_models.pkl\")"
   ]
  },
  {
   "cell_type": "code",
   "execution_count": 11,
   "id": "ix8m4ca38ct",
   "metadata": {},
   "outputs": [
    {
     "name": "stdout",
     "output_type": "stream",
     "text": [
      "Final galaxy counts by simulation:\n",
      "----------------------------------------\n",
      "          EAGLE:    7,445 galaxies ( 11.8%)\n",
      "      Illustris:   19,354 galaxies ( 30.7%)\n",
      "   IllustrisTNG:   12,220 galaxies ( 19.4%)\n",
      "         Mufasa:    1,900 galaxies (  3.0%)\n",
      "          Simba:    1,982 galaxies (  3.1%)\n",
      "         SC-SAM:   12,821 galaxies ( 20.3%)\n",
      "UniverseMachine:    7,361 galaxies ( 11.7%)\n",
      "----------------------------------------\n",
      "          Total:   63,083 galaxies\n",
      "\n",
      "Zoom simulations: 35 galaxies\n"
     ]
    }
   ],
   "source": [
    "# Summary statistics\n",
    "print(\"Final galaxy counts by simulation:\")\n",
    "print(\"-\" * 40)\n",
    "\n",
    "for sim_idx, sim in enumerate(sim_name):\n",
    "    if sim_data_clean[sim] is not None:\n",
    "        sim_mask = combined_labels == sim_idx\n",
    "        count = np.sum(sim_mask)\n",
    "        percentage = 100 * count / len(combined_labels)\n",
    "        print(f\"{sim:>15s}: {count:>8,d} galaxies ({percentage:5.1f}%)\")\n",
    "    \n",
    "print(\"-\" * 40)\n",
    "print(f\"{'Total':>15s}: {len(combined_labels):>8,d} galaxies\")\n",
    "\n",
    "if zoom_embedding is not None:\n",
    "    print(f\"\\nZoom simulations: {len(zoom_embedding):,} galaxies\")"
   ]
  }
 ],
 "metadata": {
  "kernelspec": {
   "display_name": "Python 3",
   "language": "python",
   "name": "python3"
  },
  "language_info": {
   "codemirror_mode": {
    "name": "ipython",
    "version": 3
   },
   "file_extension": ".py",
   "mimetype": "text/x-python",
   "name": "python",
   "nbconvert_exporter": "python",
   "pygments_lexer": "ipython3",
   "version": "3.13.6"
  }
 },
 "nbformat": 4,
 "nbformat_minor": 5
}
