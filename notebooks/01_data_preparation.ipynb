{
 "cells": [
  {
   "cell_type": "markdown",
   "id": "1",
   "metadata": {},
   "source": [
    "# 01 - Data Preparation\n",
    "\n",
    "This notebook loads and preprocesses all data files used in the SFH analysis.\n",
    "\n",
    "## Data Sources:\n",
    "1. **Iyer et al. 2020 SFH Data** - Star formation histories from multiple simulations\n",
    "2. **Autoencoder Results** - Predictions from multimodal autoencoder analysis\n",
    "\n",
    "## Processing Steps:\n",
    "1. Load raw simulation data\n",
    "2. Apply mass cuts\n",
    "3. Remove zero SFHs\n",
    "4. Normalize SFHs\n",
    "5. Prepare data for UMAP analysis"
   ]
  },
  {
   "cell_type": "code",
   "execution_count": null,
   "id": "2",
   "metadata": {},
   "outputs": [],
   "source": [
    "import numpy as np\n",
    "import matplotlib.pyplot as plt\n",
    "import sys\n",
    "import os\n",
    "\n",
    "# Add src to path\n",
    "sys.path.append('../src')\n",
    "\n",
    "from utils.data_processing import (\n",
    "    load_iyer_data, \n",
    "    load_autoencoder_data,\n",
    "    apply_mass_cuts,\n",
    "    remove_zero_sfhs,\n",
    "    normalize_sfh,\n",
    "    prepare_umap_data\n",
    ")\n",
    "from utils.analysis import sim_name, times\n",
    "\n",
    "%matplotlib inline"
   ]
  },
  {
   "cell_type": "markdown",
   "id": "3",
   "metadata": {},
   "source": [
    "## Load Raw Data"
   ]
  },
  {
   "cell_type": "code",
   "execution_count": null,
   "id": "4",
   "metadata": {},
   "outputs": [],
   "source": [
    "# Load Iyer et al. 2020 simulation data\n",
    "print(\"Loading Iyer et al. 2020 simulation data...\")\n",
    "sim_data_raw = load_iyer_data()\n",
    "\n",
    "print(\"\\nSimulation summary:\")\n",
    "for sim in sim_name:\n",
    "    if sim_data_raw[sim] is not None:\n",
    "        ngal = sim_data_raw[sim]['ngal']\n",
    "        print(f\"{sim:>15s}: {ngal:>8,d} galaxies\")\n",
    "    else:\n",
    "        print(f\"{sim:>15s}: No data\")"
   ]
  },
  {
   "cell_type": "code",
   "execution_count": null,
   "id": "5",
   "metadata": {},
   "outputs": [],
   "source": [
    "# Load autoencoder results\n",
    "print(\"Loading autoencoder results...\")\n",
    "ae_data = load_autoencoder_data()\n",
    "\n",
    "print(\"\\nAutoencoder data summary:\")\n",
    "for key, data in ae_data.items():\n",
    "    print(f\"{key:>20s}: {data.shape}\")"
   ]
  },
  {
   "cell_type": "markdown",
   "id": "6",
   "metadata": {},
   "source": [
    "## Apply Data Processing Steps"
   ]
  },
  {
   "cell_type": "code",
   "execution_count": null,
   "id": "7",
   "metadata": {},
   "outputs": [],
   "source": [
    "# Step 1: Apply mass cuts\n",
    "# Default: 10^10 for Mufasa, Simba; 10^9 for everything else\n",
    "print(\"Applying mass cuts...\")\n",
    "sim_data_cut = apply_mass_cuts(sim_data_raw)"
   ]
  },
  {
   "cell_type": "code",
   "execution_count": null,
   "id": "8",
   "metadata": {},
   "outputs": [],
   "source": [
    "# Step 2: Remove zero SFHs\n",
    "print(\"\\nRemoving zero star formation histories...\")\n",
    "sim_data_clean = remove_zero_sfhs(sim_data_cut)"
   ]
  },
  {
   "cell_type": "code",
   "execution_count": null,
   "id": "9",
   "metadata": {},
   "outputs": [],
   "source": [
    "# Step 3: Prepare normalized data for UMAP analysis\n",
    "print(\"\\nPreparing data for UMAP analysis...\")\n",
    "combined_sfh, combined_labels = prepare_umap_data(sim_data_clean, \n",
    "                                                 normalize=True, \n",
    "                                                 remove_zeros=False)  # Already removed\n",
    "\n",
    "print(f\"\\nFinal dataset: {len(combined_sfh):,} galaxies with {combined_sfh.shape[1]} time bins\")"
   ]
  },
  {
   "cell_type": "markdown",
   "id": "10",
   "metadata": {},
   "source": "## Save Processed Data\n\nSave the processed data for use in subsequent notebooks."
  },
  {
   "cell_type": "code",
   "execution_count": null,
   "id": "11",
   "metadata": {},
   "outputs": [],
   "source": "# Summary statistics\nprint(\"Final galaxy counts by simulation:\")\nprint(\"-\" * 40)\n\nfor sim_idx, sim in enumerate(sim_name):\n    if sim_data_clean[sim] is not None:\n        sim_mask = combined_labels == sim_idx\n        count = np.sum(sim_mask)\n        percentage = 100 * count / len(combined_labels)\n        print(f\"{sim:>15s}: {count:>8,d} galaxies ({percentage:5.1f}%)\")\n    \nprint(\"-\" * 40)\nprint(f\"{'Total':>15s}: {len(combined_labels):>8,d} galaxies\")"
  },
  {
   "cell_type": "code",
   "id": "00tosq5krzv3g",
   "source": "# Save processed simulation data\nimport pickle\n\nwith open('../data/sim_data_processed.pkl', 'wb') as f:\n    pickle.dump(sim_data_clean, f)\n\n# Save combined arrays for UMAP analysis\nnp.save('../data/combined_sfh.npy', combined_sfh)\nnp.save('../data/combined_labels.npy', combined_labels)\n\nprint(\"Processed data saved successfully!\")\nprint(\"\\nFiles created:\")\nprint(\"- ../data/sim_data_processed.pkl\")\nprint(\"- ../data/combined_sfh.npy\")\nprint(\"- ../data/combined_labels.npy\")",
   "metadata": {},
   "execution_count": null,
   "outputs": []
  },
  {
   "cell_type": "markdown",
   "id": "13",
   "metadata": {},
   "source": [
    "## Save Processed Data\n",
    "\n",
    "Save the processed data for use in subsequent notebooks."
   ]
  },
  {
   "cell_type": "code",
   "execution_count": null,
   "id": "14",
   "metadata": {},
   "outputs": [],
   "source": [
    "# Create figures directory if it doesn't exist\n",
    "os.makedirs('../figures', exist_ok=True)\n",
    "\n",
    "# Save processed simulation data\n",
    "import pickle\n",
    "\n",
    "with open('../data/sim_data_processed.pkl', 'wb') as f:\n",
    "    pickle.dump(sim_data_clean, f)\n",
    "\n",
    "# Save combined arrays for UMAP analysis\n",
    "np.save('../data/combined_sfh.npy', combined_sfh)\n",
    "np.save('../data/combined_labels.npy', combined_labels)\n",
    "\n",
    "print(\"Processed data saved successfully!\")\n",
    "print(\"\\nFiles created:\")\n",
    "print(\"- ../data/sim_data_processed.pkl\")\n",
    "print(\"- ../data/combined_sfh.npy\")\n",
    "print(\"- ../data/combined_labels.npy\")\n",
    "print(\"- ../figures/sample_sfhs_normalized.png\")"
   ]
  }
 ],
 "metadata": {
  "kernelspec": {
   "display_name": "Python 3 (ipykernel)",
   "language": "python",
   "name": "python3"
  },
  "language_info": {
   "codemirror_mode": {
    "name": "ipython",
    "version": 3
   },
   "file_extension": ".py",
   "mimetype": "text/x-python",
   "name": "python",
   "nbconvert_exporter": "python",
   "pygments_lexer": "ipython3",
   "version": "3.8.0"
  }
 },
 "nbformat": 4,
 "nbformat_minor": 5
}