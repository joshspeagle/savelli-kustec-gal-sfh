{
 "cells": [
  {
   "cell_type": "markdown",
   "id": "cell-0",
   "metadata": {},
   "source": [
    "# 02 - Galaxy Main Sequence Analysis (Figure 1)\n",
    "\n",
    "This notebook generates **Figure 1** from the paper using the exact original code, adapted for the refactored data structure.\n",
    "\n",
    "**Goal**: Reproduce Figure 1 exactly as in the original paper."
   ]
  },
  {
   "cell_type": "code",
   "execution_count": null,
   "id": "cell-1",
   "metadata": {},
   "outputs": [],
   "source": "# Imports (adapted for refactored structure)\nimport numpy as np\nimport matplotlib.pyplot as plt\nimport pickle\nimport sys\nimport os\n\n# Add src to path\nsys.path.append('../src')\n\nfrom utils.plotting import draw_grid_A\nfrom utils.analysis import (\n    sim_name, colors, zoom_name, zoom_colors, zoom_markers,\n    SM_axis_label, SFR_axis_label\n)\nfrom utils.data_processing import load_zoom_data\n\n%matplotlib inline"
  },
  {
   "cell_type": "code",
   "execution_count": null,
   "id": "cell-2",
   "metadata": {},
   "outputs": [],
   "source": [
    "# Load processed simulation data (instead of loading raw .mat files)\n",
    "with open('../data/sim_data_processed.pkl', 'rb') as f:\n",
    "    sim_data = pickle.load(f)\n",
    "\n",
    "print(\"Loaded processed simulation data:\")\n",
    "for sim in sim_name:\n",
    "    if sim_data[sim] is not None:\n",
    "        ngal = sim_data[sim]['ngal']\n",
    "        print(f\"{sim:>15s}: {ngal:>8,d} galaxies\")\n",
    "    else:\n",
    "        print(f\"{sim:>15s}: No data\")"
   ]
  },
  {
   "cell_type": "code",
   "id": "50lhg2l4v0x",
   "source": "# Load zoom simulation data\nzoom_data = load_zoom_data()\n\nprint(\"\\nLoaded zoom simulation data:\")\nfor zoom in zoom_name:\n    if zoom_data[zoom] is not None:\n        ngal = zoom_data[zoom]['ngal']\n        print(f\"{zoom:>15s}: {ngal:>8,d} galaxies\")\n    else:\n        print(f\"{zoom:>15s}: No data\")",
   "metadata": {},
   "execution_count": null,
   "outputs": []
  },
  {
   "cell_type": "code",
   "execution_count": null,
   "id": "cell-3",
   "metadata": {},
   "outputs": [],
   "source": "# EXACT ORIGINAL CODE (from cell 11 in SFHs_figures.ipynb)\n\n# draw grid\nminsm  = np.min([(np.min(sim_data[sim]['sm'])) for sim in sim_name[:-1]]) # exclude UM\nmaxsm  = np.max([(np.max(sim_data[sim]['sm'])) for sim in sim_name])\nminsfr = np.min([(np.min(sim_data[sim]['sfh_raw'].T[-1][sim_data[sim]['sfh_raw'].T[-1] > 0.])) for sim in sim_name[:-2]]) # ignore 0s, UM, SC\nmaxsfr = np.max([(np.max(sim_data[sim]['sfh_raw'].T[-1])) for sim in sim_name])\nax = draw_grid_A(xlabel = SM_axis_label, ylabel=SFR_axis_label, \n                 xlim = [minsm, maxsm], ylim = [minsfr, maxsfr])\n\n\n# plot\nfor sim in sim_name[::-1]:\n    # plot individual sims\n    sm = sim_data[sim]['sm']\n    sfr = sim_data[sim]['sfh_raw'].T[-1]\n    if (sim == 'Mufasa') | (sim == 'Simba'):\n        v = 1e10\n    else:\n        v = 1e9\n    mask = sm <= v\n    \n    c = colors[sim]\n    ax[sim].loglog(sm[mask], sfr[mask], '.', c='grey', ms=1)\n    ax[sim].loglog(sm[~mask], sfr[~mask], '.', c=c, ms=1)\n    \n    ax[sim].axvline(v,c='r')\n    \n    ax[sim].text(10**8.2,10**1.5,sim,fontsize=16,bbox=dict(facecolor='white', \n                                                           edgecolor='white', linewidth=0))\n    \n    # xticks by hand\n    ax[sim].set_xticks([1e8,1e9,1e10,1e11,1e12])\n    ax[sim].set_xticklabels([\"\",\"$10^9$\",\"\",\"$10^{11}$\",\"\"])\n    ax[sim].set_xticks([7e7,8e7,9e7,\n                        2e8,3e8,4e8,5e8,6e8,7e8,9e8,\n                        2e9,3e9,4e9,5e9,6e9,7e9,9e9,\n                        2e10,3e10,4e10,5e10,6e10,7e10,9e10,\n                        2e11,3e11,4e11,5e11,6e11,7e11,9e11,\n                        2e12,3e12,4e12],minor=True)\n    \n    # plot combined  \n    ax['large'].loglog(sm[mask], sfr[mask], '.', c='grey', ms=3, alpha=0.2)\n    ax['large'].loglog(sm[~mask], sfr[~mask], '.', c=c, ms=3, alpha=0.2)\n\n# Add mass cut lines to combined panel\nax['large'].axvline(1e9,c='r')\nax['large'].axvline(1e10,c='r')\n\n# Plot zoom simulations on top (from original code)\nfor zoom in zoom_name:\n    if zoom_data[zoom] is not None:\n        sm = zoom_data[zoom]['sm']\n        sfr = zoom_data[zoom]['sfh_raw'].T[-1]\n        ax['large'].loglog(sm, sfr, '.', c=zoom_colors[zoom], marker=zoom_markers[zoom], \n                          mec='k', ms=10, label=zoom)\n\nax['large'].text(10**8,10**1.68,'All simulations',fontsize=16, \n                 bbox=dict(facecolor='white', edgecolor='white', linewidth=0))\n\nplt.savefig('../figures/figure1_main_sequence.png', bbox_inches='tight', dpi=300)\nplt.savefig('../figures/figure1_main_sequence.pdf', bbox_inches='tight')\n    \nplt.show()\nplt.close()"
  },
  {
   "cell_type": "markdown",
   "id": "cell-4",
   "metadata": {},
   "source": [
    "## Summary\n",
    "\n",
    "This notebook reproduces **Figure 1** exactly as in the original paper, showing the galaxy main sequence (stellar mass vs star formation rate) for all simulations. \n",
    "\n",
    "Key features:\n",
    "- Points below mass cuts shown in grey, above mass cuts in simulation colors\n",
    "- Red vertical lines indicate mass cuts ($10^9 M_\\odot$ for most, $10^{10} M_\\odot$ for Mufasa/Simba)\n",
    "- Combined panel shows all simulations together\n",
    "- Manual tick control for precise formatting\n",
    "\n",
    "**Files generated:**\n",
    "- `../figures/figure1_main_sequence.png`\n",
    "- `../figures/figure1_main_sequence.pdf`"
   ]
  }
 ],
 "metadata": {
  "kernelspec": {
   "display_name": "Python 3 (ipykernel)",
   "language": "python",
   "name": "python3"
  },
  "language_info": {
   "codemirror_mode": {
    "name": "ipython",
    "version": 3
   },
   "file_extension": ".py",
   "mimetype": "text/x-python",
   "name": "python",
   "nbconvert_exporter": "python",
   "pygments_lexer": "ipython3",
   "version": "3.9.7"
  }
 },
 "nbformat": 4,
 "nbformat_minor": 5
}